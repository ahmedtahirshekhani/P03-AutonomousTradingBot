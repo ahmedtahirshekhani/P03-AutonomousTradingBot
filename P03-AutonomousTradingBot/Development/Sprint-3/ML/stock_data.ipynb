{
  "cells": [
    {
      "cell_type": "code",
      "execution_count": 1,
      "metadata": {
        "id": "s10xxTM-TkRj",
        "colab": {
          "base_uri": "https://localhost:8080/"
        },
        "outputId": "20cbbf4a-22c2-46b9-d4ce-929b8e0a666b"
      },
      "outputs": [
        {
          "output_type": "stream",
          "name": "stdout",
          "text": [
            "Looking in indexes: https://pypi.org/simple, https://us-python.pkg.dev/colab-wheels/public/simple/\n",
            "Collecting psx-data-reader\n",
            "  Downloading psx_data_reader-0.0.6-py3-none-any.whl (6.4 kB)\n",
            "Requirement already satisfied: beautifulsoup4 in /usr/local/lib/python3.8/dist-packages (from psx-data-reader) (4.6.3)\n",
            "Requirement already satisfied: requests in /usr/local/lib/python3.8/dist-packages (from psx-data-reader) (2.25.1)\n",
            "Requirement already satisfied: pandas in /usr/local/lib/python3.8/dist-packages (from psx-data-reader) (1.3.5)\n",
            "Requirement already satisfied: tqdm in /usr/local/lib/python3.8/dist-packages (from psx-data-reader) (4.64.1)\n",
            "Requirement already satisfied: numpy>=1.17.3 in /usr/local/lib/python3.8/dist-packages (from pandas->psx-data-reader) (1.21.6)\n",
            "Requirement already satisfied: python-dateutil>=2.7.3 in /usr/local/lib/python3.8/dist-packages (from pandas->psx-data-reader) (2.8.2)\n",
            "Requirement already satisfied: pytz>=2017.3 in /usr/local/lib/python3.8/dist-packages (from pandas->psx-data-reader) (2022.7.1)\n",
            "Requirement already satisfied: certifi>=2017.4.17 in /usr/local/lib/python3.8/dist-packages (from requests->psx-data-reader) (2022.12.7)\n",
            "Requirement already satisfied: chardet<5,>=3.0.2 in /usr/local/lib/python3.8/dist-packages (from requests->psx-data-reader) (4.0.0)\n",
            "Requirement already satisfied: urllib3<1.27,>=1.21.1 in /usr/local/lib/python3.8/dist-packages (from requests->psx-data-reader) (1.24.3)\n",
            "Requirement already satisfied: idna<3,>=2.5 in /usr/local/lib/python3.8/dist-packages (from requests->psx-data-reader) (2.10)\n",
            "Requirement already satisfied: six>=1.5 in /usr/local/lib/python3.8/dist-packages (from python-dateutil>=2.7.3->pandas->psx-data-reader) (1.15.0)\n",
            "Installing collected packages: psx-data-reader\n",
            "Successfully installed psx-data-reader-0.0.6\n"
          ]
        }
      ],
      "source": [
        "!pip install psx-data-reader\n",
        "import psx \n",
        "import numpy as np\n",
        "import pandas as pd\n",
        "import keras\n",
        "import scipy as sp\n",
        "import sklearn\n",
        "from sklearn.preprocessing import MinMaxScaler\n",
        "from keras.utils import to_categorical\n",
        "import matplotlib.pyplot as plt\n",
        "from datetime import date \n",
        "from dateutil.relativedelta import relativedelta\n"
      ]
    },
    {
      "cell_type": "code",
      "source": [
        "from google.colab import drive\n",
        "drive.mount('/content/drive')"
      ],
      "metadata": {
        "colab": {
          "base_uri": "https://localhost:8080/"
        },
        "id": "l8aIWlBmOOHk",
        "outputId": "807cd23b-d601-4334-b9f8-efb1df66257c"
      },
      "execution_count": 2,
      "outputs": [
        {
          "output_type": "stream",
          "name": "stdout",
          "text": [
            "Mounted at /content/drive\n"
          ]
        }
      ]
    },
    {
      "cell_type": "code",
      "source": [
        "class TrainModel():\n",
        "  def __init__(self, ticker):\n",
        "    self.ticker = ticker\n",
        "    self.sc=None\n",
        "\n",
        "  def get_train_data(self):\n",
        "    now = date.today()\n",
        "    five_year_earlier = (now + relativedelta(years=-5))\n",
        "    end_date = (now + relativedelta(months=-2))\n",
        "    data = psx.stocks(self.ticker, start=five_year_earlier, end=date.today())\n",
        "    \n",
        "    return data\n",
        "  \n",
        "  def get_test_data(self):\n",
        "    now = date.today()\n",
        "    two_months_earlier = (now + relativedelta(months=-2))\n",
        "    data = psx.stocks(self.ticker, start=two_months_earlier, end=date.today())\n",
        "    return data\n",
        "\n",
        "  def atr_col(self,df):\n",
        "    high_low = df['High'] - df['Low']\n",
        "    high_prev_close = np.abs(df['High'] - df['Close'].shift())\n",
        "    low_prev_close = np.abs(df['Low'] - df['Close'].shift())\n",
        "    atr_df = pd.concat([high_low,high_prev_close,low_prev_close], axis=1)\n",
        "    true_range = np.max(atr_df, axis=1)\n",
        "    atr = true_range.rolling(14).mean()\n",
        "    atr_df = atr.to_frame(name='ATR')\n",
        "    ndf = pd.concat([df,atr_df],axis=1)\n",
        "    ndf = ndf.dropna()\n",
        "    return ndf\n",
        "\n",
        "  def train(self):\n",
        "    regressor = self.model()\n",
        "    X_train, y_train, X_test, y_test = self.data_preprocess()\n",
        "    regressor.fit(x = X_train, y = y_train, batch_size = 32, epochs = 100)\n",
        "    regressor.save(f'/content/drive/MyDrive/Sproj/model/{self.ticker}.h5')\n",
        "\n",
        "  def model(self):\n",
        "    regressor = keras.Sequential()\n",
        "    regressor.add(keras.layers.LSTM(units = 100, return_sequences = True, input_shape = (15, 6)))\n",
        "    regressor.add(keras.layers.Dropout(rate = 0.2))\n",
        "    regressor.add(keras.layers.LSTM(units = 100, return_sequences = True))\n",
        "    regressor.add(keras.layers.Dropout(rate = 0.2))\n",
        "    regressor.add(keras.layers.LSTM(units = 100, return_sequences = True))\n",
        "    regressor.add(keras.layers.Dropout(rate = 0.2))\n",
        "    regressor.add(keras.layers.LSTM(units = 100, return_sequences = True))\n",
        "    regressor.add(keras.layers.Dropout(rate = 0.2))\n",
        "    regressor.add(keras.layers.LSTM(units = 100, return_sequences = True))\n",
        "    regressor.add(keras.layers.Dropout(rate = 0.2))\n",
        "    regressor.add(keras.layers.LSTM(units = 100, return_sequences = False))\n",
        "    regressor.add(keras.layers.Dropout(rate = 0.2))\n",
        "    regressor.add(keras.layers.Dense(units = 6))\n",
        "    regressor.compile(optimizer = 'adam', loss = 'mean_squared_error')\n",
        "    return regressor\n",
        "\n",
        "  def predict(self,model):\n",
        "    pred_model = keras.models.load_model(model)\n",
        "    sc = MinMaxScaler(feature_range = (0, 1))\n",
        "    df = self.get_test_data()\n",
        "    ndf = self.atr_col(df)\n",
        "    pred_X = ndf.iloc[-15:].values\n",
        "    pred_scaled = sc.fit_transform(pred_X)\n",
        "    pred_scaled=pred_scaled.reshape(1,15,6)\n",
        "    predicted_stock_price = pred_model.predict(pred_scaled)\n",
        "    predicted_stock_price = sc.inverse_transform(predicted_stock_price)\n",
        "    Open=predicted_stock_price[:,0][0]\n",
        "    High=predicted_stock_price[:,1][0]\n",
        "    Low=predicted_stock_price[:,2][0]\n",
        "    Close=predicted_stock_price[:,3][0]\n",
        "    ATR = predicted_stock_price[:,5][0]\n",
        "    return Open,High,Low,Close,ATR\n",
        "  \n",
        "  def data_preprocess(self):\n",
        "    df = self.get_train_data()\n",
        "    ndf = self.atr_col(df)\n",
        "    all_data_values = ndf.values\n",
        "    train_X = all_data_values[:int(all_data_values.shape[0]*0.85), :]\n",
        "    test_X = all_data_values[int(all_data_values.shape[0]*0.85):, :]\n",
        "    print(train_X.shape , test_X.shape)\n",
        "    self.sc = MinMaxScaler(feature_range = (0, 1))\n",
        "    training_scaled = self.sc.fit_transform(train_X)\n",
        "    testing_scaled = self.sc.fit_transform(test_X)\n",
        "    X_train = []\n",
        "    y_train = []\n",
        "    for i in range(15, len(training_scaled)-7):\n",
        "        X_train.append(training_scaled[i-15: i, :])\n",
        "        y_train.append(training_scaled[i+7, :])\n",
        "    X_train, y_train = np.array(X_train).astype(np.float64), np.array(y_train).astype(np.float64)\n",
        "    print(X_train.shape , y_train.shape)\n",
        "    X_train = X_train.reshape((X_train.shape[0],X_train.shape[1],6)).astype(np.float64)\n",
        "    print(train_X.shape,test_X.shape)\n",
        "    temp = np.vstack((train_X , test_X))\n",
        "    inputs = temp[len(temp)-len(test_X)- 7: ]\n",
        "    inputs = inputs.reshape(-1, 6)\n",
        "    inputs.shape\n",
        "    inputs = self.sc.transform(inputs)\n",
        "    X_test = []\n",
        "    y_test = []\n",
        "    for i in range(15, len(inputs)-7): \n",
        "        X_test.append(inputs[i-15: i, :])\n",
        "        y_test.append(i+7)\n",
        "        \n",
        "    X_test = np.array(X_test).astype(np.float64)\n",
        "    X_test = X_test.reshape((X_test.shape[0],  X_test.shape[1], 6))\n",
        "    return X_train, y_train, X_test, y_test\n",
        "\n"
      ],
      "metadata": {
        "id": "ut_-h7Raq096"
      },
      "execution_count": 3,
      "outputs": []
    },
    {
      "cell_type": "code",
      "source": [
        "test_model = TrainModel(\"HBL\")\n",
        "test_model.train()"
      ],
      "metadata": {
        "colab": {
          "base_uri": "https://localhost:8080/"
        },
        "id": "syx8wMgiH9zf",
        "outputId": "feddd773-3102-4457-b83e-1c4f25ef7dfe"
      },
      "execution_count": 13,
      "outputs": [
        {
          "output_type": "stream",
          "name": "stderr",
          "text": [
            "Downloading HBL's Data: 100%|██████████| 61/61 [00:10<00:00,  5.85it/s]"
          ]
        },
        {
          "output_type": "stream",
          "name": "stdout",
          "text": [
            "(1042, 6) (185, 6)\n",
            "(1020, 15, 6) (1020, 6)\n",
            "(1042, 6) (185, 6)\n",
            "Epoch 1/100\n"
          ]
        },
        {
          "output_type": "stream",
          "name": "stderr",
          "text": [
            "\n"
          ]
        },
        {
          "output_type": "stream",
          "name": "stdout",
          "text": [
            "32/32 [==============================] - 11s 17ms/step - loss: 0.0232\n",
            "Epoch 2/100\n",
            "32/32 [==============================] - 1s 24ms/step - loss: 0.0119\n",
            "Epoch 3/100\n",
            "32/32 [==============================] - 1s 23ms/step - loss: 0.0101\n",
            "Epoch 4/100\n",
            "32/32 [==============================] - 1s 29ms/step - loss: 0.0095\n",
            "Epoch 5/100\n",
            "32/32 [==============================] - 1s 22ms/step - loss: 0.0099\n",
            "Epoch 6/100\n",
            "32/32 [==============================] - 1s 24ms/step - loss: 0.0097\n",
            "Epoch 7/100\n",
            "32/32 [==============================] - 1s 24ms/step - loss: 0.0099\n",
            "Epoch 8/100\n",
            "32/32 [==============================] - 1s 23ms/step - loss: 0.0091\n",
            "Epoch 9/100\n",
            "32/32 [==============================] - 1s 24ms/step - loss: 0.0089\n",
            "Epoch 10/100\n",
            "32/32 [==============================] - 1s 22ms/step - loss: 0.0087\n",
            "Epoch 11/100\n",
            "32/32 [==============================] - 1s 26ms/step - loss: 0.0086\n",
            "Epoch 12/100\n",
            "32/32 [==============================] - 1s 27ms/step - loss: 0.0082\n",
            "Epoch 13/100\n",
            "32/32 [==============================] - 1s 30ms/step - loss: 0.0086\n",
            "Epoch 14/100\n",
            "32/32 [==============================] - 1s 17ms/step - loss: 0.0082\n",
            "Epoch 15/100\n",
            "32/32 [==============================] - 0s 14ms/step - loss: 0.0081\n",
            "Epoch 16/100\n",
            "32/32 [==============================] - 0s 14ms/step - loss: 0.0083\n",
            "Epoch 17/100\n",
            "32/32 [==============================] - 0s 14ms/step - loss: 0.0076\n",
            "Epoch 18/100\n",
            "32/32 [==============================] - 0s 14ms/step - loss: 0.0076\n",
            "Epoch 19/100\n",
            "32/32 [==============================] - 0s 14ms/step - loss: 0.0073\n",
            "Epoch 20/100\n",
            "32/32 [==============================] - 0s 14ms/step - loss: 0.0076\n",
            "Epoch 21/100\n",
            "32/32 [==============================] - 0s 14ms/step - loss: 0.0072\n",
            "Epoch 22/100\n",
            "32/32 [==============================] - 0s 14ms/step - loss: 0.0068\n",
            "Epoch 23/100\n",
            "32/32 [==============================] - 0s 14ms/step - loss: 0.0069\n",
            "Epoch 24/100\n",
            "32/32 [==============================] - 0s 14ms/step - loss: 0.0065\n",
            "Epoch 25/100\n",
            "32/32 [==============================] - 0s 14ms/step - loss: 0.0065\n",
            "Epoch 26/100\n",
            "32/32 [==============================] - 0s 14ms/step - loss: 0.0066\n",
            "Epoch 27/100\n",
            "32/32 [==============================] - 0s 14ms/step - loss: 0.0062\n",
            "Epoch 28/100\n",
            "32/32 [==============================] - 0s 15ms/step - loss: 0.0064\n",
            "Epoch 29/100\n",
            "32/32 [==============================] - 1s 19ms/step - loss: 0.0058\n",
            "Epoch 30/100\n",
            "32/32 [==============================] - 1s 19ms/step - loss: 0.0055\n",
            "Epoch 31/100\n",
            "32/32 [==============================] - 1s 19ms/step - loss: 0.0059\n",
            "Epoch 32/100\n",
            "32/32 [==============================] - 1s 18ms/step - loss: 0.0057\n",
            "Epoch 33/100\n",
            "32/32 [==============================] - 1s 18ms/step - loss: 0.0056\n",
            "Epoch 34/100\n",
            "32/32 [==============================] - 1s 19ms/step - loss: 0.0057\n",
            "Epoch 35/100\n",
            "32/32 [==============================] - 0s 14ms/step - loss: 0.0056\n",
            "Epoch 36/100\n",
            "32/32 [==============================] - 0s 13ms/step - loss: 0.0057\n",
            "Epoch 37/100\n",
            "32/32 [==============================] - 0s 14ms/step - loss: 0.0050\n",
            "Epoch 38/100\n",
            "32/32 [==============================] - 0s 14ms/step - loss: 0.0050\n",
            "Epoch 39/100\n",
            "32/32 [==============================] - 0s 14ms/step - loss: 0.0046\n",
            "Epoch 40/100\n",
            "32/32 [==============================] - 0s 14ms/step - loss: 0.0052\n",
            "Epoch 41/100\n",
            "32/32 [==============================] - 0s 14ms/step - loss: 0.0049\n",
            "Epoch 42/100\n",
            "32/32 [==============================] - 0s 14ms/step - loss: 0.0048\n",
            "Epoch 43/100\n",
            "32/32 [==============================] - 0s 14ms/step - loss: 0.0046\n",
            "Epoch 44/100\n",
            "32/32 [==============================] - 0s 14ms/step - loss: 0.0044\n",
            "Epoch 45/100\n",
            "32/32 [==============================] - 0s 14ms/step - loss: 0.0042\n",
            "Epoch 46/100\n",
            "32/32 [==============================] - 0s 14ms/step - loss: 0.0045\n",
            "Epoch 47/100\n",
            "32/32 [==============================] - 0s 14ms/step - loss: 0.0040\n",
            "Epoch 48/100\n",
            "32/32 [==============================] - 0s 14ms/step - loss: 0.0043\n",
            "Epoch 49/100\n",
            "32/32 [==============================] - 0s 14ms/step - loss: 0.0051\n",
            "Epoch 50/100\n",
            "32/32 [==============================] - 0s 14ms/step - loss: 0.0045\n",
            "Epoch 51/100\n",
            "32/32 [==============================] - 0s 14ms/step - loss: 0.0045\n",
            "Epoch 52/100\n",
            "32/32 [==============================] - 0s 14ms/step - loss: 0.0040\n",
            "Epoch 53/100\n",
            "32/32 [==============================] - 0s 15ms/step - loss: 0.0043\n",
            "Epoch 54/100\n",
            "32/32 [==============================] - 0s 14ms/step - loss: 0.0037\n",
            "Epoch 55/100\n",
            "32/32 [==============================] - 0s 15ms/step - loss: 0.0039\n",
            "Epoch 56/100\n",
            "32/32 [==============================] - 0s 15ms/step - loss: 0.0037\n",
            "Epoch 57/100\n",
            "32/32 [==============================] - 1s 19ms/step - loss: 0.0038\n",
            "Epoch 58/100\n",
            "32/32 [==============================] - 1s 19ms/step - loss: 0.0035\n",
            "Epoch 59/100\n",
            "32/32 [==============================] - 1s 19ms/step - loss: 0.0034\n",
            "Epoch 60/100\n",
            "32/32 [==============================] - 1s 19ms/step - loss: 0.0034\n",
            "Epoch 61/100\n",
            "32/32 [==============================] - 1s 18ms/step - loss: 0.0040\n",
            "Epoch 62/100\n",
            "32/32 [==============================] - 1s 18ms/step - loss: 0.0033\n",
            "Epoch 63/100\n",
            "32/32 [==============================] - 0s 14ms/step - loss: 0.0032\n",
            "Epoch 64/100\n",
            "32/32 [==============================] - 0s 14ms/step - loss: 0.0036\n",
            "Epoch 65/100\n",
            "32/32 [==============================] - 0s 14ms/step - loss: 0.0033\n",
            "Epoch 66/100\n",
            "32/32 [==============================] - 0s 14ms/step - loss: 0.0031\n",
            "Epoch 67/100\n",
            "32/32 [==============================] - 0s 14ms/step - loss: 0.0032\n",
            "Epoch 68/100\n",
            "32/32 [==============================] - 0s 14ms/step - loss: 0.0036\n",
            "Epoch 69/100\n",
            "32/32 [==============================] - 0s 14ms/step - loss: 0.0034\n",
            "Epoch 70/100\n",
            "32/32 [==============================] - 0s 14ms/step - loss: 0.0032\n",
            "Epoch 71/100\n",
            "32/32 [==============================] - 0s 14ms/step - loss: 0.0030\n",
            "Epoch 72/100\n",
            "32/32 [==============================] - 0s 14ms/step - loss: 0.0030\n",
            "Epoch 73/100\n",
            "32/32 [==============================] - 0s 15ms/step - loss: 0.0028\n",
            "Epoch 74/100\n",
            "32/32 [==============================] - 0s 14ms/step - loss: 0.0028\n",
            "Epoch 75/100\n",
            "32/32 [==============================] - 0s 14ms/step - loss: 0.0028\n",
            "Epoch 76/100\n",
            "32/32 [==============================] - 0s 14ms/step - loss: 0.0028\n",
            "Epoch 77/100\n",
            "32/32 [==============================] - 0s 14ms/step - loss: 0.0031\n",
            "Epoch 78/100\n",
            "32/32 [==============================] - 0s 14ms/step - loss: 0.0030\n",
            "Epoch 79/100\n",
            "32/32 [==============================] - 0s 14ms/step - loss: 0.0028\n",
            "Epoch 80/100\n",
            "32/32 [==============================] - 0s 14ms/step - loss: 0.0027\n",
            "Epoch 81/100\n",
            "32/32 [==============================] - 0s 14ms/step - loss: 0.0027\n",
            "Epoch 82/100\n",
            "32/32 [==============================] - 0s 14ms/step - loss: 0.0027\n",
            "Epoch 83/100\n",
            "32/32 [==============================] - 0s 14ms/step - loss: 0.0026\n",
            "Epoch 84/100\n",
            "32/32 [==============================] - 0s 15ms/step - loss: 0.0028\n",
            "Epoch 85/100\n",
            "32/32 [==============================] - 1s 19ms/step - loss: 0.0028\n",
            "Epoch 86/100\n",
            "32/32 [==============================] - 1s 19ms/step - loss: 0.0027\n",
            "Epoch 87/100\n",
            "32/32 [==============================] - 1s 19ms/step - loss: 0.0025\n",
            "Epoch 88/100\n",
            "32/32 [==============================] - 1s 19ms/step - loss: 0.0026\n",
            "Epoch 89/100\n",
            "32/32 [==============================] - 1s 19ms/step - loss: 0.0025\n",
            "Epoch 90/100\n",
            "32/32 [==============================] - 1s 18ms/step - loss: 0.0025\n",
            "Epoch 91/100\n",
            "32/32 [==============================] - 0s 14ms/step - loss: 0.0026\n",
            "Epoch 92/100\n",
            "32/32 [==============================] - 0s 14ms/step - loss: 0.0025\n",
            "Epoch 93/100\n",
            "32/32 [==============================] - 0s 14ms/step - loss: 0.0023\n",
            "Epoch 94/100\n",
            "32/32 [==============================] - 0s 14ms/step - loss: 0.0025\n",
            "Epoch 95/100\n",
            "32/32 [==============================] - 0s 14ms/step - loss: 0.0027\n",
            "Epoch 96/100\n",
            "32/32 [==============================] - 0s 14ms/step - loss: 0.0024\n",
            "Epoch 97/100\n",
            "32/32 [==============================] - 0s 15ms/step - loss: 0.0023\n",
            "Epoch 98/100\n",
            "32/32 [==============================] - 0s 15ms/step - loss: 0.0022\n",
            "Epoch 99/100\n",
            "32/32 [==============================] - 0s 14ms/step - loss: 0.0022\n",
            "Epoch 100/100\n",
            "32/32 [==============================] - 0s 14ms/step - loss: 0.0022\n"
          ]
        }
      ]
    },
    {
      "cell_type": "code",
      "source": [
        "Open,High,Low,Close,ATR = test_model.predict('/content/drive/MyDrive/Sproj/model/HBL.h5')"
      ],
      "metadata": {
        "colab": {
          "base_uri": "https://localhost:8080/"
        },
        "id": "Xn5k2L-ZKdtF",
        "outputId": "cd05766c-6508-4d84-b5ec-2d2562d52bb5"
      },
      "execution_count": 14,
      "outputs": [
        {
          "output_type": "stream",
          "name": "stderr",
          "text": [
            "Downloading HBL's Data: 100%|██████████| 3/3 [00:02<00:00,  1.41it/s]\n"
          ]
        },
        {
          "output_type": "stream",
          "name": "stdout",
          "text": [
            "1/1 [==============================] - 3s 3s/step\n"
          ]
        }
      ]
    },
    {
      "cell_type": "code",
      "source": [
        "print(Open,High,Low,Close,ATR)"
      ],
      "metadata": {
        "colab": {
          "base_uri": "https://localhost:8080/"
        },
        "id": "ZtAcuJqYfvhF",
        "outputId": "a14805ab-42a9-4bda-b4f5-a4de7688b4ed"
      },
      "execution_count": 15,
      "outputs": [
        {
          "output_type": "stream",
          "name": "stdout",
          "text": [
            "76.256325 77.92351 75.19955 76.10345 2.9675472\n"
          ]
        }
      ]
    }
  ],
  "metadata": {
    "kernelspec": {
      "display_name": "Python 3",
      "language": "python",
      "name": "python3"
    },
    "language_info": {
      "codemirror_mode": {
        "name": "ipython",
        "version": 3
      },
      "file_extension": ".py",
      "mimetype": "text/x-python",
      "name": "python",
      "nbconvert_exporter": "python",
      "pygments_lexer": "ipython3",
      "version": "3.10.2"
    },
    "orig_nbformat": 4,
    "vscode": {
      "interpreter": {
        "hash": "369f2c481f4da34e4445cda3fffd2e751bd1c4d706f27375911949ba6bb62e1c"
      }
    },
    "colab": {
      "provenance": []
    },
    "gpuClass": "standard",
    "accelerator": "GPU"
  },
  "nbformat": 4,
  "nbformat_minor": 0
}